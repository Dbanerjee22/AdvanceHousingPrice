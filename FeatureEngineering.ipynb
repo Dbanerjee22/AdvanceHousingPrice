{
 "cells": [
  {
   "cell_type": "code",
   "execution_count": 25,
   "metadata": {},
   "outputs": [],
   "source": [
    "import pandas as pd\n",
    "import seaborn as sns\n",
    "import matplotlib.pyplot as plt\n",
    "import numpy as np\n",
    "## Display all the columns of the dataframe\n",
    "\n",
    "pd.pandas.set_option('display.max_columns',None)"
   ]
  },
  {
   "cell_type": "code",
   "execution_count": 26,
   "metadata": {},
   "outputs": [],
   "source": [
    "train=pd.read_csv(\"D:\\\\DataSet\\\\AdvanceHousePrice\\\\train.csv\")\n",
    "test=pd.read_csv(\"D:\\\\DataSet\\\\AdvanceHousePrice\\\\test.csv\")"
   ]
  },
  {
   "cell_type": "code",
   "execution_count": 27,
   "metadata": {},
   "outputs": [],
   "source": [
    "#find those column whose datatype is note Object in short numarical data\n",
    "numarical_data=[feature for feature in train\n",
    "    if train[feature].dtype !=\"O\"]"
   ]
  },
  {
   "cell_type": "code",
   "execution_count": 28,
   "metadata": {},
   "outputs": [],
   "source": [
    "year_date=[feature for feature in numarical_data\n",
    "    if \"YEAR\" in feature.upper() or \"YR\" in feature.upper()]"
   ]
  },
  {
   "cell_type": "code",
   "execution_count": 29,
   "metadata": {},
   "outputs": [],
   "source": [
    "category=[feature for feature in train.columns if train[feature].dtype==\"O\"]"
   ]
  },
  {
   "cell_type": "code",
   "execution_count": 30,
   "metadata": {},
   "outputs": [
    {
     "name": "stdout",
     "output_type": "stream",
     "text": [
      "The feature MSZoning has 5 category\n",
      "The feature Street has 2 category\n",
      "The feature Alley has 3 category\n",
      "The feature LotShape has 4 category\n",
      "The feature LandContour has 4 category\n",
      "The feature Utilities has 2 category\n",
      "The feature LotConfig has 5 category\n",
      "The feature LandSlope has 3 category\n",
      "The feature Neighborhood has 25 category\n",
      "The feature Condition1 has 9 category\n",
      "The feature Condition2 has 8 category\n",
      "The feature BldgType has 5 category\n",
      "The feature HouseStyle has 8 category\n",
      "The feature RoofStyle has 6 category\n",
      "The feature RoofMatl has 8 category\n",
      "The feature Exterior1st has 15 category\n",
      "The feature Exterior2nd has 16 category\n",
      "The feature MasVnrType has 5 category\n",
      "The feature ExterQual has 4 category\n",
      "The feature ExterCond has 5 category\n",
      "The feature Foundation has 6 category\n",
      "The feature BsmtQual has 5 category\n",
      "The feature BsmtCond has 5 category\n",
      "The feature BsmtExposure has 5 category\n",
      "The feature BsmtFinType1 has 7 category\n",
      "The feature BsmtFinType2 has 7 category\n",
      "The feature Heating has 6 category\n",
      "The feature HeatingQC has 5 category\n",
      "The feature CentralAir has 2 category\n",
      "The feature Electrical has 6 category\n",
      "The feature KitchenQual has 4 category\n",
      "The feature Functional has 7 category\n",
      "The feature FireplaceQu has 6 category\n",
      "The feature GarageType has 7 category\n",
      "The feature GarageFinish has 4 category\n",
      "The feature GarageQual has 6 category\n",
      "The feature GarageCond has 6 category\n",
      "The feature PavedDrive has 3 category\n",
      "The feature PoolQC has 4 category\n",
      "The feature Fence has 5 category\n",
      "The feature MiscFeature has 5 category\n",
      "The feature SaleType has 9 category\n",
      "The feature SaleCondition has 6 category\n"
     ]
    }
   ],
   "source": [
    "for feature in category:\n",
    "    print(\"The feature {} has {} category\".format(feature,len(train[feature].unique())))"
   ]
  },
  {
   "cell_type": "code",
   "execution_count": 31,
   "metadata": {},
   "outputs": [
    {
     "name": "stdout",
     "output_type": "stream",
     "text": [
      "In category Alley has 0.9377%null values\n",
      "In category MasVnrType has 0.0055%null values\n",
      "In category BsmtQual has 0.0253%null values\n",
      "In category BsmtCond has 0.0253%null values\n",
      "In category BsmtExposure has 0.026%null values\n",
      "In category BsmtFinType1 has 0.0253%null values\n",
      "In category BsmtFinType2 has 0.026%null values\n",
      "In category Electrical has 0.0007%null values\n",
      "In category FireplaceQu has 0.4726%null values\n",
      "In category GarageType has 0.0555%null values\n",
      "In category GarageFinish has 0.0555%null values\n",
      "In category GarageQual has 0.0555%null values\n",
      "In category GarageCond has 0.0555%null values\n",
      "In category PoolQC has 0.9952%null values\n",
      "In category Fence has 0.8075%null values\n",
      "In category MiscFeature has 0.963%null values\n"
     ]
    }
   ],
   "source": [
    "category_nanval=[]\n",
    "for feature in category:\n",
    "    if train[feature].isnull().mean()>0:\n",
    "        category_nanval.append(feature)\n",
    "        print(\"In category {} has {}%null values\".format(feature,round(train[feature].isnull().mean(),4)))\n",
    "        "
   ]
  },
  {
   "cell_type": "code",
   "execution_count": 32,
   "metadata": {},
   "outputs": [],
   "source": [
    "#we have to replace NaN value with missing so that we can handel the values later\n",
    "def replace_cat_nan(dataset,category_nanval):\n",
    "    data=dataset.copy()\n",
    "    data[category_nanval]=data[category_nanval].fillna(\"Missing\")\n",
    "    return data\n",
    "train=replace_cat_nan(train,category_nanval)\n",
    "test=replace_cat_nan(test,category_nanval)"
   ]
  },
  {
   "cell_type": "code",
   "execution_count": 33,
   "metadata": {},
   "outputs": [
    {
     "data": {
      "text/plain": [
       "Id                 0\n",
       "MSSubClass         0\n",
       "MSZoning           0\n",
       "LotFrontage      259\n",
       "LotArea            0\n",
       "                ... \n",
       "MoSold             0\n",
       "YrSold             0\n",
       "SaleType           0\n",
       "SaleCondition      0\n",
       "SalePrice          0\n",
       "Length: 81, dtype: int64"
      ]
     },
     "execution_count": 33,
     "metadata": {},
     "output_type": "execute_result"
    }
   ],
   "source": [
    "train.isnull().sum()"
   ]
  },
  {
   "cell_type": "code",
   "execution_count": 34,
   "metadata": {},
   "outputs": [
    {
     "name": "stdout",
     "output_type": "stream",
     "text": [
      "In numarical dataLotFrontage has 0.1774% nan data\n",
      "In numarical dataMasVnrArea has 0.0055% nan data\n",
      "In numarical dataGarageYrBlt has 0.0555% nan data\n"
     ]
    }
   ],
   "source": [
    "numarical_nan=[]\n",
    "for feature in numarical_data:\n",
    "    if train[feature].isnull().mean()>0:\n",
    "        numarical_nan.append(feature)\n",
    "        print(\"In numarical data{} has {}% nan data\".format(feature,round(train[feature].isnull().mean(),4)))"
   ]
  },
  {
   "cell_type": "code",
   "execution_count": 35,
   "metadata": {},
   "outputs": [],
   "source": [
    "for feature in numarical_nan:\n",
    "    #Because there is a lot of outlier we have to replace the value with median\n",
    "    median_value=train[feature].median()\n",
    "    \"\"\"\"\n",
    "    to give more information about the data,even we replace the value with median it will help us too identify \n",
    "    that there was nan value\"\"\"\n",
    "    train[feature+\"NaN\"]=np.where(train[feature].isnull(),1,0)\n",
    "    train[feature].fillna(median_value,inplace=True)\n",
    "    "
   ]
  },
  {
   "cell_type": "code",
   "execution_count": 36,
   "metadata": {},
   "outputs": [
    {
     "data": {
      "text/plain": [
       "LotFrontage    0\n",
       "MasVnrArea     0\n",
       "GarageYrBlt    0\n",
       "dtype: int64"
      ]
     },
     "execution_count": 36,
     "metadata": {},
     "output_type": "execute_result"
    }
   ],
   "source": [
    "train[numarical_nan].isnull().sum()"
   ]
  },
  {
   "cell_type": "code",
   "execution_count": 37,
   "metadata": {},
   "outputs": [],
   "source": [
    "for feature in [\"YearBuilt\",\"YearRemodAdd\",\"GarageYrBlt\"]:\n",
    "    train[feature]=train[\"YrSold\"]-train[feature]"
   ]
  },
  {
   "cell_type": "code",
   "execution_count": 38,
   "metadata": {},
   "outputs": [],
   "source": [
    "for feature in numarical_data[1:]:\n",
    "    if 0 in train[feature].unique():\n",
    "        pass\n",
    "    else:\n",
    "        train[feature]=np.log(train[feature])"
   ]
  },
  {
   "cell_type": "code",
   "execution_count": 39,
   "metadata": {},
   "outputs": [],
   "source": [
    "#isin check if each and every value is present or not,if present return true else false\n",
    "for feature in category:\n",
    "    temp=train.groupby(feature)[\"SalePrice\"].count()/len(train)\n",
    "    temp_df=temp[temp>0.01].index\n",
    "    train[feature]=np.where(train[feature].isin(temp_df),train[feature],\"Rare Value\")\n",
    "    test[feature]=np.where(test[feature].isin(temp_df),test[feature],\"Rare Value\")\n",
    "    "
   ]
  },
  {
   "cell_type": "code",
   "execution_count": 40,
   "metadata": {},
   "outputs": [],
   "source": [
    "for feature in category:\n",
    "    tem=train.groupby(feature)[\"SalePrice\"].mean().sort_values().index\n",
    "    tem={j:i for i,j in enumerate(tem,0)}\n",
    "    train[feature]=train[feature].map(tem)\n",
    "    test[feature]=test[feature].map(tem)"
   ]
  },
  {
   "cell_type": "code",
   "execution_count": 41,
   "metadata": {},
   "outputs": [
    {
     "name": "stdout",
     "output_type": "stream",
     "text": [
      "The feature MSZoning has 5 category\n",
      "The feature Street has 2 category\n",
      "The feature Alley has 3 category\n",
      "The feature LotShape has 4 category\n",
      "The feature LandContour has 4 category\n",
      "The feature Utilities has 2 category\n",
      "The feature LotConfig has 5 category\n",
      "The feature LandSlope has 3 category\n",
      "The feature Neighborhood has 23 category\n",
      "The feature Condition1 has 6 category\n",
      "The feature Condition2 has 2 category\n",
      "The feature BldgType has 5 category\n",
      "The feature HouseStyle has 6 category\n",
      "The feature RoofStyle has 3 category\n",
      "The feature RoofMatl has 2 category\n",
      "The feature Exterior1st has 11 category\n",
      "The feature Exterior2nd has 11 category\n",
      "The feature MasVnrType has 5 category\n",
      "The feature ExterQual has 4 category\n",
      "The feature ExterCond has 4 category\n",
      "The feature Foundation has 5 category\n",
      "The feature BsmtQual has 5 category\n",
      "The feature BsmtCond has 5 category\n",
      "The feature BsmtExposure has 5 category\n",
      "The feature BsmtFinType1 has 7 category\n",
      "The feature BsmtFinType2 has 7 category\n",
      "The feature Heating has 3 category\n",
      "The feature HeatingQC has 5 category\n",
      "The feature CentralAir has 2 category\n",
      "The feature Electrical has 4 category\n",
      "The feature KitchenQual has 5 category\n",
      "The feature Functional has 5 category\n",
      "The feature FireplaceQu has 6 category\n",
      "The feature GarageType has 6 category\n",
      "The feature GarageFinish has 4 category\n",
      "The feature GarageQual has 4 category\n",
      "The feature GarageCond has 4 category\n",
      "The feature PavedDrive has 3 category\n",
      "The feature PoolQC has 2 category\n",
      "The feature Fence has 5 category\n",
      "The feature MiscFeature has 3 category\n",
      "The feature SaleType has 4 category\n",
      "The feature SaleCondition has 5 category\n"
     ]
    }
   ],
   "source": [
    "for feature in category:\n",
    "    print(\"The feature {} has {} category\".format(feature,len(test[feature].unique())))"
   ]
  },
  {
   "cell_type": "code",
   "execution_count": 42,
   "metadata": {},
   "outputs": [],
   "source": [
    "for feature in numarical_nan:\n",
    "    median_value=test[feature].median()\n",
    "    test[feature+\"NaN\"]=np.where(test[feature].isnull(),1,0)\n",
    "    test[feature].fillna(median_value,inplace=True)"
   ]
  },
  {
   "cell_type": "code",
   "execution_count": 43,
   "metadata": {},
   "outputs": [],
   "source": [
    "for feature in [\"YearBuilt\",\"YearRemodAdd\",\"GarageYrBlt\"]:\n",
    "    test[feature]=test[\"YrSold\"]-test[feature]"
   ]
  },
  {
   "cell_type": "code",
   "execution_count": 44,
   "metadata": {},
   "outputs": [],
   "source": [
    "for feature in numarical_data:\n",
    "    if feature==\"SalePrice\" or feature==\"Id\":\n",
    "        pass\n",
    "    elif 0 in test[feature].unique():\n",
    "        pass\n",
    "    else:\n",
    "        test[feature]=np.log(test[feature])"
   ]
  },
  {
   "cell_type": "code",
   "execution_count": 46,
   "metadata": {},
   "outputs": [
    {
     "data": {
      "text/plain": [
       "MinMaxScaler()"
      ]
     },
     "execution_count": 46,
     "metadata": {},
     "output_type": "execute_result"
    }
   ],
   "source": [
    "feature_scale=[feature for feature in train.columns if feature not in ['Id','SalePrice']]\n",
    "\n",
    "from sklearn.preprocessing import MinMaxScaler\n",
    "scaler=MinMaxScaler()\n",
    "scaler.fit(train[feature_scale])\n",
    "\n"
   ]
  },
  {
   "cell_type": "code",
   "execution_count": 47,
   "metadata": {},
   "outputs": [],
   "source": [
    "data = pd.concat([train['SalePrice'].reset_index(drop=True),\n",
    "                    pd.DataFrame(scaler.transform(train[feature_scale]), columns=feature_scale)],\n",
    "                    axis=1)"
   ]
  },
  {
   "cell_type": "code",
   "execution_count": 48,
   "metadata": {},
   "outputs": [],
   "source": [
    "test_data=pd.DataFrame(scaler.transform(test[feature_scale]), columns=feature_scale)"
   ]
  },
  {
   "cell_type": "code",
   "execution_count": 51,
   "metadata": {},
   "outputs": [],
   "source": [
    "test_data.to_csv(\"D:\\\\DataSet\\\\AdvanceHousePrice\\\\X_test.csv\",index=False)\n",
    "data.to_csv(\"D:\\\\DataSet\\\\AdvanceHousePrice\\\\X_train.csv\",index=False)"
   ]
  },
  {
   "cell_type": "code",
   "execution_count": 55,
   "metadata": {},
   "outputs": [
    {
     "name": "stdout",
     "output_type": "stream",
     "text": [
      "BsmtFinSF1 1\n",
      "BsmtFinSF2 1\n",
      "BsmtUnfSF 1\n",
      "TotalBsmtSF 1\n",
      "BsmtFullBath 2\n",
      "BsmtHalfBath 2\n",
      "KitchenQual 1\n",
      "GarageCars 1\n",
      "GarageArea 1\n"
     ]
    }
   ],
   "source": [
    "for feature in test:\n",
    "    if test[feature].isnull().mean()>0:\n",
    "        print(feature,test[feature].isnull().sum())"
   ]
  },
  {
   "cell_type": "code",
   "execution_count": 52,
   "metadata": {},
   "outputs": [
    {
     "data": {
      "text/plain": [
       "SalePrice         0\n",
       "MSSubClass        0\n",
       "MSZoning          0\n",
       "LotFrontage       0\n",
       "LotArea           0\n",
       "                 ..\n",
       "SaleType          0\n",
       "SaleCondition     0\n",
       "LotFrontageNaN    0\n",
       "MasVnrAreaNaN     0\n",
       "GarageYrBltNaN    0\n",
       "Length: 83, dtype: int64"
      ]
     },
     "execution_count": 52,
     "metadata": {},
     "output_type": "execute_result"
    }
   ],
   "source": [
    "data.isnull().sum()"
   ]
  },
  {
   "cell_type": "code",
   "execution_count": null,
   "metadata": {},
   "outputs": [],
   "source": []
  }
 ],
 "metadata": {
  "kernelspec": {
   "display_name": "Python 3",
   "language": "python",
   "name": "python3"
  },
  "language_info": {
   "codemirror_mode": {
    "name": "ipython",
    "version": 3
   },
   "file_extension": ".py",
   "mimetype": "text/x-python",
   "name": "python",
   "nbconvert_exporter": "python",
   "pygments_lexer": "ipython3",
   "version": "3.8.5"
  }
 },
 "nbformat": 4,
 "nbformat_minor": 4
}
